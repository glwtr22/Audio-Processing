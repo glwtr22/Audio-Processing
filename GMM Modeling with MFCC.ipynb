{
 "cells": [
  {
   "cell_type": "code",
   "execution_count": 36,
   "id": "6af70517",
   "metadata": {
    "scrolled": false
   },
   "outputs": [
    {
     "name": "stderr",
     "output_type": "stream",
     "text": [
      "C:\\Users\\happy\\anaconda3\\lib\\site-packages\\librosa\\util\\decorators.py:88: UserWarning: n_fft=512 is too small for input signal of length=5\n",
      "  return f(*args, **kwargs)\n",
      "C:\\Users\\happy\\anaconda3\\lib\\site-packages\\librosa\\util\\decorators.py:88: UserWarning: Empty filters detected in mel frequency basis. Some channels will produce empty responses. Try increasing your sampling rate (and fmax) or reducing n_mels.\n",
      "  return f(*args, **kwargs)\n"
     ]
    },
    {
     "name": "stdout",
     "output_type": "stream",
     "text": [
      "-8.704555349236662\n",
      "-4.3468923922866525\n",
      "-5.5358921671153904\n",
      "-4.3440206472654745\n",
      "-4.343414627490594\n",
      "-4.3311749850007875\n"
     ]
    }
   ],
   "source": [
    "# 필요한 라이브러리 호출\n",
    "import numpy as np\n",
    "import librosa, librosa.display\n",
    "import matplotlib.pyplot as plt\n",
    "import sklearn\n",
    "from sklearn.mixture import GaussianMixture\n",
    "\n",
    "# Training data Load\n",
    "file = []\n",
    "file.append(\"/Users/happy/resource/training_data/F1tr.wav\")\n",
    "file.append(\"/Users/happy/resource/training_data/F2tr.wav\")\n",
    "file.append(\"/Users/happy/resource/training_data/F3tr.wav\")\n",
    "file.append(\"/Users/happy/resource/training_data/M1tr.wav\")\n",
    "file.append(\"/Users/happy/resource/training_data/M2tr.wav\")\n",
    "file.append(\"/Users/happy/resource/training_data/M3tr.wav\")\n",
    "\n",
    "# Data의 signal과 rate 구하기\n",
    "signal = []\n",
    "\n",
    "for i in range(6):\n",
    "    sig, srate = librosa.load(file[i], sr = 160000)\n",
    "    signal.append(sig)\n",
    "\n",
    "# Data에서 Train 데이터 8초로 잘라내기\n",
    "train = []\n",
    "test = []\n",
    "\n",
    "point = len(signal)*4/5\n",
    "for i in range(6):\n",
    "    train.append(signal[i][0:round(point)])\n",
    "    test.append(signal[i][round(point):])\n",
    "\n",
    "\n",
    "# train data와 test data의 mfcc 구하기\n",
    "mfccTrain = []\n",
    "mfccTest = []\n",
    "\n",
    "for i in range(6):\n",
    "    mfcc1 = librosa.feature.mfcc(y = train[i], sr = srate, n_mfcc = 24, n_fft = 512, hop_length = 512).reshape(-1,1)\n",
    "    mfccTrain.append(mfcc1)\n",
    "    mfcc2 = librosa.feature.mfcc(y = test[i], sr = srate, n_mfcc = 24, n_fft = 512, hop_length = 512).reshape(-1,1)\n",
    "    mfccTest.append(mfcc2)\n",
    "    \n",
    "# 각 데이터 별로 GMM 구축\n",
    "gmm = []\n",
    "for i in range(6):\n",
    "    gmm_ = GaussianMixture(n_components = 2, max_iter = 500, init_params = \"random\").fit(mfccTrain[i])\n",
    "    gmm.append(gmm_)\n",
    "    \n",
    "# print(gmm)\n",
    "# score = [0, 0, 0, 0, 0, 0]\n",
    "for i in range(6):\n",
    "    s = gmm[i].score(mfccTest[2])\n",
    "    \n",
    "    print(s)\n",
    "    s = abs(s)\n",
    "    print(i, s)\n",
    "    if i == 0:\n",
    "        min = s\n",
    "        n = i\n",
    "    else:\n",
    "        if s < min:\n",
    "            min = s\n",
    "            n = i\n",
    "# print(\"\\n\")\n",
    "# score[n] += 1\n",
    "\n",
    "print(score)\n",
    "print(\"\\n\", n, min)\n",
    "if n == 0:\n",
    "    print(\"이 음성은 F1 입니다.\")\n",
    "elif n == 1:\n",
    "    print(\"이 음성은 F2 입니다.\")\n",
    "elif n == 2:\n",
    "    print(\"이 음성은 F3 입니다.\")\n",
    "elif n == 3:\n",
    "    print(\"이 음성은 M1 입니다.\")\n",
    "elif n == 4:\n",
    "    print(\"이 음성은 M2 입니다.\")\n",
    "else:\n",
    "    print(\"이 음성은 M3 입니다.\")"
   ]
  }
 ],
 "metadata": {
  "kernelspec": {
   "display_name": "Python 3 (ipykernel)",
   "language": "python",
   "name": "python3"
  },
  "language_info": {
   "codemirror_mode": {
    "name": "ipython",
    "version": 3
   },
   "file_extension": ".py",
   "mimetype": "text/x-python",
   "name": "python",
   "nbconvert_exporter": "python",
   "pygments_lexer": "ipython3",
   "version": "3.9.7"
  }
 },
 "nbformat": 4,
 "nbformat_minor": 5
}
