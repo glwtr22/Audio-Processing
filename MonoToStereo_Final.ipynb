{
 "cells": [
  {
   "cell_type": "code",
   "execution_count": 2,
   "id": "f07d7e13",
   "metadata": {},
   "outputs": [],
   "source": [
    "from scipy.io import wavfile\n",
    "import numpy as np\n",
    "import matplotlib.pyplot as plt\n",
    "\n",
    "fs, data = wavfile.read(\"/Users/happy/resource/Tone500Hz_short.wav\")\n",
    "# fs : sample rate / data : 파일의 데이터"
   ]
  },
  {
   "cell_type": "code",
   "execution_count": 4,
   "id": "89d4ad90",
   "metadata": {},
   "outputs": [
    {
     "name": "stdout",
     "output_type": "stream",
     "text": [
      "16000\n"
     ]
    }
   ],
   "source": [
    "print(fs)"
   ]
  },
  {
   "cell_type": "code",
   "execution_count": 5,
   "id": "adc2bcce",
   "metadata": {},
   "outputs": [
    {
     "name": "stdout",
     "output_type": "stream",
     "text": [
      "[    0  3204  6284 ... -9125 -6285 -3204]\n"
     ]
    }
   ],
   "source": [
    "print(data)"
   ]
  },
  {
   "cell_type": "code",
   "execution_count": 3,
   "id": "36fb9a94",
   "metadata": {},
   "outputs": [],
   "source": [
    "l_arr = data\n",
    "r_arr = data\n",
    "\n",
    "stereo_arr = []\n",
    "for l, r in zip(l_arr, r_arr):\n",
    "    stereo_arr.append(l)\n",
    "    stereo_arr.append(r)"
   ]
  },
  {
   "cell_type": "code",
   "execution_count": null,
   "id": "bf36b88c",
   "metadata": {},
   "outputs": [],
   "source": [
    "stereo_arr = np.array(stereo_arr, dtype = np.float32)\n",
    "wavfile.write(\"stereo_transformed.wav\", 16000, stereo_arr)\n",
    "# wavfile.write() 인자 : 파일 이름, 샘플 레이트, data(ndarray)"
   ]
  }
 ],
 "metadata": {
  "kernelspec": {
   "display_name": "Python 3 (ipykernel)",
   "language": "python",
   "name": "python3"
  },
  "language_info": {
   "codemirror_mode": {
    "name": "ipython",
    "version": 3
   },
   "file_extension": ".py",
   "mimetype": "text/x-python",
   "name": "python",
   "nbconvert_exporter": "python",
   "pygments_lexer": "ipython3",
   "version": "3.9.7"
  }
 },
 "nbformat": 4,
 "nbformat_minor": 5
}
