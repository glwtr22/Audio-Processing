{
 "cells": [
  {
   "cell_type": "code",
   "execution_count": 2,
   "id": "8f08c7ab",
   "metadata": {},
   "outputs": [],
   "source": [
    "import numpy as np\n",
    "import librosa, librosa.display\n",
    "import matplotlib.pyplot as plt"
   ]
  },
  {
   "cell_type": "code",
   "execution_count": 3,
   "id": "d3f73b74",
   "metadata": {},
   "outputs": [],
   "source": [
    "import sklearn\n",
    "from sklearn.mixture import GaussianMixture"
   ]
  },
  {
   "cell_type": "code",
   "execution_count": 4,
   "id": "5ba3f0b0",
   "metadata": {},
   "outputs": [
    {
     "name": "stdout",
     "output_type": "stream",
     "text": [
      "[5.0441005e-05 4.5215926e-05 3.8363301e-05 ... 1.8170541e-03 1.2013211e-03\n",
      " 6.6239468e-04]\n",
      "160000\n"
     ]
    }
   ],
   "source": [
    "#데이터 로드\n",
    "# 6번 반복하는 반복문으로\n",
    "# file\n",
    "# for i in range(6):\n",
    "    \n",
    "file = \"/Users/happy/resource/training_data/F1tr.wav\"\n",
    "signal, srate = librosa.load(file, sr = 160000)\n",
    "\n",
    "print(signal)\n",
    "print(srate)"
   ]
  },
  {
   "cell_type": "code",
   "execution_count": 5,
   "id": "ad3e90dc",
   "metadata": {
    "scrolled": true
   },
   "outputs": [],
   "source": [
    "# training data / test data 자르기\n",
    "point = len(signal)*4/5\n",
    "# print(round(point))\n",
    "train = signal[0:round(point)]\n",
    "test = signal[round(point):]\n",
    "\n",
    "# print(train)\n",
    "# print(test)\n",
    "# print(len(train))\n",
    "# print(len(test))"
   ]
  },
  {
   "cell_type": "code",
   "execution_count": 18,
   "id": "64692619",
   "metadata": {},
   "outputs": [
    {
     "name": "stderr",
     "output_type": "stream",
     "text": [
      "C:\\Users\\happy\\anaconda3\\lib\\site-packages\\librosa\\util\\decorators.py:88: UserWarning: Empty filters detected in mel frequency basis. Some channels will produce empty responses. Try increasing your sampling rate (and fmax) or reducing n_mels.\n",
      "  return f(*args, **kwargs)\n"
     ]
    }
   ],
   "source": [
    "# mfcc 생성하기\n",
    "mfcc = librosa.feature.mfcc(y = train, sr = srate, n_mfcc = 24, n_fft = 512, hop_length = 512) # hop length : 512\n",
    "mfcc2 = librosa.feature.mfcc(y = test, sr = srate, n_mfcc = 24, n_fft = 512, hop_length = 512)\n",
    "\n",
    "\n",
    "mfcc_r = mfcc.reshape(-1,1)\n",
    "mfcc2_r = mfcc2.reshape(-1,1)\n"
   ]
  },
  {
   "cell_type": "code",
   "execution_count": 23,
   "id": "ce0027ee",
   "metadata": {},
   "outputs": [],
   "source": [
    "# mfcc로 GMM Modeling 하기\n",
    "gm = GaussianMixture(n_components = 3, max_iter = 100, init_params = \"random\").fit(mfcc_r) # 2차원"
   ]
  },
  {
   "cell_type": "code",
   "execution_count": 24,
   "id": "905e49ff",
   "metadata": {},
   "outputs": [
    {
     "name": "stdout",
     "output_type": "stream",
     "text": [
      "-4.412316968232328\n"
     ]
    }
   ],
   "source": [
    "s = gm.score(mfcc2_r)\n",
    "print(s)"
   ]
  },
  {
   "cell_type": "code",
   "execution_count": null,
   "id": "e06b77be",
   "metadata": {},
   "outputs": [],
   "source": []
  }
 ],
 "metadata": {
  "kernelspec": {
   "display_name": "Python 3 (ipykernel)",
   "language": "python",
   "name": "python3"
  },
  "language_info": {
   "codemirror_mode": {
    "name": "ipython",
    "version": 3
   },
   "file_extension": ".py",
   "mimetype": "text/x-python",
   "name": "python",
   "nbconvert_exporter": "python",
   "pygments_lexer": "ipython3",
   "version": "3.9.7"
  }
 },
 "nbformat": 4,
 "nbformat_minor": 5
}
